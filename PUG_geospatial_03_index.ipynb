{
 "cells": [
  {
   "cell_type": "markdown",
   "metadata": {},
   "source": [
    "\n",
    "# Spatial Indexing: An Overview\n",
    "*Notebook 3 of 5*\n",
    "\n",
    "Spatial indexing is a crucial concept in the realm of spatial databases and Geographic Information Systems (GIS). At its core, it optimizes the storage and querying of spatial data, enabling faster search operations over large datasets.\n",
    "\n",
    "## Why is Spatial Indexing Important?\n",
    "\n",
    "- **Efficiency**: Without spatial indexing, searching through vast datasets to find a specific geographic feature or determining proximity relations would be time-consuming. Spatial indexing dramatically reduces this time by organizing the data in a way that allows for faster search and retrieval.\n",
    "\n",
    "- **Scalability**: As spatial datasets grow, the importance of spatial indexing becomes even more evident. Whether you're dealing with millions of data points in a large-scale mapping project or tracking real-time movement in a logistics application, spatial indexing ensures that the system remains responsive and efficient.\n",
    "\n",
    "- **Improved Analysis**: In spatial analytics, being able to quickly access and process data is crucial. Spatial indexing aids in tasks like overlay analysis, proximity checks, and pattern recognition.\n",
    "\n",
    "## Situations Where Spatial Indexing is Used:\n",
    "\n",
    "- **GIS Applications**: For large-scale mapping, land-use planning, or environmental studies, GIS systems rely heavily on spatial indexing to manage and query large datasets efficiently.\n",
    "\n",
    "- **Real-time Tracking**: In logistics and transportation, real-time tracking systems use spatial indexing to monitor and predict the movement of goods and vehicles efficiently.\n",
    "\n",
    "- **Gaming and Augmented Reality (AR)**: Modern games and AR applications, which involve real-world environments, use spatial indexing to manage virtual objects in a physical space.\n",
    "\n",
    "- **Urban Planning**: When analyzing urban sprawl, transportation networks, or utility grids, spatial indexing helps planners to quickly identify patterns, overlaps, or gaps.\n",
    "\n",
    "By understanding and leveraging spatial indexing, professionals across various fields can manage, analyze, and visualize spatial data more efficiently, leading to more informed decisions and optimized operations.\n"
   ]
  },
  {
   "cell_type": "markdown",
   "metadata": {},
   "source": [
    "## H3: A Hexagonal Hierarchical Geospatial Indexing System\n",
    "\n",
    "H3 is a geospatial indexing system that partitions the world into hexagonal cells. Developed by Uber, H3 provides a way to assign a unique identifier to any position on Earth with a resolution ranging from intercontinental distances down to less than a meter. The hexagonal shape offers several benefits over traditional square grid systems, including more uniform distance calculations and the absence of diagonal neighbors, making certain calculations simpler and more consistent.\n",
    "\n",
    "These indexes can be used in a variety of applications, such as location-based services, spatial analysis, and data visualization."
   ]
  },
  {
   "cell_type": "markdown",
   "metadata": {},
   "source": [
    "## Alternative Spatial Indexing Methods to H3\n",
    "\n",
    "Spatial indexing is crucial for efficiently querying and analyzing geospatial data. While H3 offers a hexagonal grid system, several other spatial indexing methods exist. Here's a brief overview of some popular alternatives and their use cases:\n",
    "\n",
    "### 1. Quadtree:\n",
    "A quadtree divides the space into four quadrants, recursively.\n",
    "\n",
    "#### Why use Quadtrees?\n",
    "- Effective for point datasets.\n",
    "- Dynamic: regions can split and merge.\n",
    "- Simple to implement and understand.\n",
    "\n",
    "### 2. R-tree:\n",
    "R-tree is a balanced tree structure that stores spatial objects in a hierarchical manner, often bounding rectangles.\n",
    "\n",
    "#### Why use R-trees?\n",
    "- Suitable for datasets with various spatial objects like points, lines, and polygons.\n",
    "- Efficiently handles spatial queries like overlap, containment, and proximity.\n",
    "- Dynamic, as it can adjust to additions and deletions.\n",
    "\n",
    "### 3. KD-tree:\n",
    "KD-tree, or k-dimensional tree, partitions space into half-spaces using axis-aligned split planes.\n",
    "\n",
    "#### Why use KD-trees?\n",
    "- Suitable for point data in multi-dimensional space.\n",
    "- Efficient nearest neighbor searches.\n",
    "- Primarily used for data with low to moderate dimensions.\n",
    "\n",
    "### 4. Geohash:\n",
    "Geohash is a system of encoding locations using a string of characters, where each additional character refines the location precision.\n",
    "\n",
    "#### Why use Geohash?\n",
    "- Provides a single string identifier for a location, useful for hashing and databases.\n",
    "- Neighboring locations often have similar prefixes, useful for proximity queries.\n",
    "- Easy integration into non-spatial databases.\n",
    "\n",
    "### 5. S2 Geometry:\n",
    "Developed by Google, S2 represents a point on the surface of a unit sphere as a 64-bit integer.\n",
    "\n",
    "#### Why use S2 Geometry?\n",
    "- Covers the entire Earth without singularities or significant distortion.\n",
    "- Supports fast in-memory operations.\n",
    "- Suitable for large-scale systems requiring global coverage.\n",
    "\n",
    "---\n",
    "\n",
    "Each spatial indexing method offers unique advantages depending on the nature of the data and the types of queries. When choosing an indexing strategy, consider the spatial characteristics of your data, the types of queries you'll be performing, and the scalability requirements of your system.\n"
   ]
  },
  {
   "cell_type": "code",
   "execution_count": null,
   "metadata": {},
   "outputs": [],
   "source": [
    "pip install h3\n"
   ]
  },
  {
   "cell_type": "code",
   "execution_count": 1,
   "metadata": {},
   "outputs": [
    {
     "name": "stdout",
     "output_type": "stream",
     "text": [
      "H3 Index for San Francisco at resolution 7: 872830828ffffff\n",
      "Hexagon boundary for the H3 index: ((37.76298184766419, -122.40945463242254), (37.7747607144902, -122.4019538515761), (37.78529347359727, -122.41077092287513), (37.78404622259876, -122.42708872508095), (37.772267349851525, -122.43458610784572), (37.76173573392154, -122.42576908738397))\n"
     ]
    }
   ],
   "source": [
    "import h3\n",
    "\n",
    "# Define a latitude and longitude\n",
    "lat, lon = 37.7749, -122.4194  # San Francisco coordinates\n",
    "\n",
    "# Generate an H3 index for this location at resolution 7\n",
    "h3_index = h3.geo_to_h3(lat, lon, resolution=7)\n",
    "\n",
    "print(f\"H3 Index for San Francisco at resolution 7: {h3_index}\")\n",
    "\n",
    "# Find the boundary (hexagon vertices) for this H3 index\n",
    "boundary = h3.h3_to_geo_boundary(h3_index)\n",
    "print(f\"Hexagon boundary for the H3 index: {boundary}\")"
   ]
  },
  {
   "cell_type": "code",
   "execution_count": 2,
   "metadata": {},
   "outputs": [
    {
     "name": "stdout",
     "output_type": "stream",
     "text": [
      "Requirement already satisfied: folium in c:\\users\\hqxb\\miniconda3\\envs\\gdal01\\lib\\site-packages (0.14.0)\n",
      "Requirement already satisfied: branca>=0.6.0 in c:\\users\\hqxb\\miniconda3\\envs\\gdal01\\lib\\site-packages (from folium) (0.6.0)\n",
      "Requirement already satisfied: jinja2>=2.9 in c:\\users\\hqxb\\miniconda3\\envs\\gdal01\\lib\\site-packages (from folium) (3.1.2)\n",
      "Requirement already satisfied: requests in c:\\users\\hqxb\\miniconda3\\envs\\gdal01\\lib\\site-packages (from folium) (2.31.0)\n",
      "Requirement already satisfied: numpy in c:\\users\\hqxb\\miniconda3\\envs\\gdal01\\lib\\site-packages (from folium) (1.24.4)\n",
      "Requirement already satisfied: MarkupSafe>=2.0 in c:\\users\\hqxb\\miniconda3\\envs\\gdal01\\lib\\site-packages (from jinja2>=2.9->folium) (2.1.1)\n",
      "Requirement already satisfied: charset-normalizer<4,>=2 in c:\\users\\hqxb\\miniconda3\\envs\\gdal01\\lib\\site-packages (from requests->folium) (3.3.1)\n",
      "Requirement already satisfied: idna<4,>=2.5 in c:\\users\\hqxb\\miniconda3\\envs\\gdal01\\lib\\site-packages (from requests->folium) (3.4)\n",
      "Requirement already satisfied: certifi>=2017.4.17 in c:\\users\\hqxb\\miniconda3\\envs\\gdal01\\lib\\site-packages (from requests->folium) (2023.7.22)\n",
      "Requirement already satisfied: urllib3<3,>=1.21.1 in c:\\users\\hqxb\\miniconda3\\envs\\gdal01\\lib\\site-packages (from requests->folium) (2.0.7)\n",
      "Note: you may need to restart the kernel to use updated packages.\n"
     ]
    }
   ],
   "source": [
    "pip install folium"
   ]
  },
  {
   "cell_type": "code",
   "execution_count": 3,
   "metadata": {},
   "outputs": [
    {
     "data": {
      "text/html": [
       "<div style=\"width:100%;\"><div style=\"position:relative;width:100%;height:0;padding-bottom:60%;\"><span style=\"color:#565656\">Make this Notebook Trusted to load map: File -> Trust Notebook</span><iframe srcdoc=\"&lt;!DOCTYPE html&gt;\n",
       "&lt;html&gt;\n",
       "&lt;head&gt;\n",
       "    \n",
       "    &lt;meta http-equiv=&quot;content-type&quot; content=&quot;text/html; charset=UTF-8&quot; /&gt;\n",
       "    \n",
       "        &lt;script&gt;\n",
       "            L_NO_TOUCH = false;\n",
       "            L_DISABLE_3D = false;\n",
       "        &lt;/script&gt;\n",
       "    \n",
       "    &lt;style&gt;html, body {width: 100%;height: 100%;margin: 0;padding: 0;}&lt;/style&gt;\n",
       "    &lt;style&gt;#map {position:absolute;top:0;bottom:0;right:0;left:0;}&lt;/style&gt;\n",
       "    &lt;script src=&quot;https://cdn.jsdelivr.net/npm/leaflet@1.9.3/dist/leaflet.js&quot;&gt;&lt;/script&gt;\n",
       "    &lt;script src=&quot;https://code.jquery.com/jquery-1.12.4.min.js&quot;&gt;&lt;/script&gt;\n",
       "    &lt;script src=&quot;https://cdn.jsdelivr.net/npm/bootstrap@5.2.2/dist/js/bootstrap.bundle.min.js&quot;&gt;&lt;/script&gt;\n",
       "    &lt;script src=&quot;https://cdnjs.cloudflare.com/ajax/libs/Leaflet.awesome-markers/2.0.2/leaflet.awesome-markers.js&quot;&gt;&lt;/script&gt;\n",
       "    &lt;link rel=&quot;stylesheet&quot; href=&quot;https://cdn.jsdelivr.net/npm/leaflet@1.9.3/dist/leaflet.css&quot;/&gt;\n",
       "    &lt;link rel=&quot;stylesheet&quot; href=&quot;https://cdn.jsdelivr.net/npm/bootstrap@5.2.2/dist/css/bootstrap.min.css&quot;/&gt;\n",
       "    &lt;link rel=&quot;stylesheet&quot; href=&quot;https://netdna.bootstrapcdn.com/bootstrap/3.0.0/css/bootstrap.min.css&quot;/&gt;\n",
       "    &lt;link rel=&quot;stylesheet&quot; href=&quot;https://cdn.jsdelivr.net/npm/@fortawesome/fontawesome-free@6.2.0/css/all.min.css&quot;/&gt;\n",
       "    &lt;link rel=&quot;stylesheet&quot; href=&quot;https://cdnjs.cloudflare.com/ajax/libs/Leaflet.awesome-markers/2.0.2/leaflet.awesome-markers.css&quot;/&gt;\n",
       "    &lt;link rel=&quot;stylesheet&quot; href=&quot;https://cdn.jsdelivr.net/gh/python-visualization/folium/folium/templates/leaflet.awesome.rotate.min.css&quot;/&gt;\n",
       "    \n",
       "            &lt;meta name=&quot;viewport&quot; content=&quot;width=device-width,\n",
       "                initial-scale=1.0, maximum-scale=1.0, user-scalable=no&quot; /&gt;\n",
       "            &lt;style&gt;\n",
       "                #map_14ef1800dd9e7cc68e40dd7dff08f546 {\n",
       "                    position: relative;\n",
       "                    width: 100.0%;\n",
       "                    height: 100.0%;\n",
       "                    left: 0.0%;\n",
       "                    top: 0.0%;\n",
       "                }\n",
       "                .leaflet-container { font-size: 1rem; }\n",
       "            &lt;/style&gt;\n",
       "        \n",
       "&lt;/head&gt;\n",
       "&lt;body&gt;\n",
       "    \n",
       "    \n",
       "            &lt;div class=&quot;folium-map&quot; id=&quot;map_14ef1800dd9e7cc68e40dd7dff08f546&quot; &gt;&lt;/div&gt;\n",
       "        \n",
       "&lt;/body&gt;\n",
       "&lt;script&gt;\n",
       "    \n",
       "    \n",
       "            var map_14ef1800dd9e7cc68e40dd7dff08f546 = L.map(\n",
       "                &quot;map_14ef1800dd9e7cc68e40dd7dff08f546&quot;,\n",
       "                {\n",
       "                    center: [37.7749, -122.4194],\n",
       "                    crs: L.CRS.EPSG3857,\n",
       "                    zoom: 12,\n",
       "                    zoomControl: true,\n",
       "                    preferCanvas: false,\n",
       "                }\n",
       "            );\n",
       "\n",
       "            \n",
       "\n",
       "        \n",
       "    \n",
       "            var tile_layer_b5dbc9cf272f7c2fa7e3dbe522a5a6b7 = L.tileLayer(\n",
       "                &quot;https://{s}.tile.openstreetmap.org/{z}/{x}/{y}.png&quot;,\n",
       "                {&quot;attribution&quot;: &quot;Data by \\u0026copy; \\u003ca target=\\&quot;_blank\\&quot; href=\\&quot;http://openstreetmap.org\\&quot;\\u003eOpenStreetMap\\u003c/a\\u003e, under \\u003ca target=\\&quot;_blank\\&quot; href=\\&quot;http://www.openstreetmap.org/copyright\\&quot;\\u003eODbL\\u003c/a\\u003e.&quot;, &quot;detectRetina&quot;: false, &quot;maxNativeZoom&quot;: 18, &quot;maxZoom&quot;: 18, &quot;minZoom&quot;: 0, &quot;noWrap&quot;: false, &quot;opacity&quot;: 1, &quot;subdomains&quot;: &quot;abc&quot;, &quot;tms&quot;: false}\n",
       "            ).addTo(map_14ef1800dd9e7cc68e40dd7dff08f546);\n",
       "        \n",
       "    \n",
       "            var polygon_695a481b895608dbc8087f16fe5d63de = L.polygon(\n",
       "                [[37.76298184766419, -122.40945463242254], [37.7747607144902, -122.4019538515761], [37.78529347359727, -122.41077092287513], [37.78404622259876, -122.42708872508095], [37.772267349851525, -122.43458610784572], [37.76173573392154, -122.42576908738397], [37.76298184766419, -122.40945463242254]],\n",
       "                {&quot;bubblingMouseEvents&quot;: true, &quot;color&quot;: &quot;blue&quot;, &quot;dashArray&quot;: null, &quot;dashOffset&quot;: null, &quot;fill&quot;: true, &quot;fillColor&quot;: &quot;blue&quot;, &quot;fillOpacity&quot;: 0.4, &quot;fillRule&quot;: &quot;evenodd&quot;, &quot;lineCap&quot;: &quot;round&quot;, &quot;lineJoin&quot;: &quot;round&quot;, &quot;noClip&quot;: false, &quot;opacity&quot;: 1.0, &quot;smoothFactor&quot;: 1.0, &quot;stroke&quot;: true, &quot;weight&quot;: 3}\n",
       "            ).addTo(map_14ef1800dd9e7cc68e40dd7dff08f546);\n",
       "        \n",
       "&lt;/script&gt;\n",
       "&lt;/html&gt;\" style=\"position:absolute;width:100%;height:100%;left:0;top:0;border:none !important;\" allowfullscreen webkitallowfullscreen mozallowfullscreen></iframe></div></div>"
      ],
      "text/plain": [
       "<folium.folium.Map at 0x23fe6c20400>"
      ]
     },
     "execution_count": 3,
     "metadata": {},
     "output_type": "execute_result"
    }
   ],
   "source": [
    "import folium\n",
    "# Create a base map\n",
    "m = folium.Map(location=[lat, lon], zoom_start=12)\n",
    "\n",
    "# Create a base map\n",
    "m = folium.Map(location=[lat, lon], zoom_start=12)\n",
    "\n",
    "# Convert boundary to list of lists (from list of tuples) to avoid the TypeError\n",
    "boundary_list = [list(coord) for coord in boundary]\n",
    "\n",
    "# Add the hexagon to the map\n",
    "folium.Polygon(\n",
    "    locations=boundary_list + [boundary_list[0]],  # Add the first vertex again to close the polygon\n",
    "    color='blue',\n",
    "    fill=True,\n",
    "    fill_color='blue',\n",
    "    fill_opacity=0.4\n",
    ").add_to(m)\n",
    "\n",
    "# Display the map\n",
    "m # This saves the map to an HTML file"
   ]
  },
  {
   "cell_type": "markdown",
   "metadata": {},
   "source": [
    "#### Here's a simple example that illustrates the benefits of using a geospatial index, like H3, compared to a non-geospatial approach.\n",
    "\n",
    "We'll use a dataset of random points and search for points within a certain radius from a given location."
   ]
  },
  {
   "cell_type": "code",
   "execution_count": 4,
   "metadata": {},
   "outputs": [],
   "source": [
    "import random\n",
    "\n",
    "# Generate 100,000 random latitudes and longitudes\n",
    "random_coords = [(random.uniform(-90, 90), random.uniform(-180, 180)) for _ in range(100000)]\n"
   ]
  },
  {
   "cell_type": "markdown",
   "metadata": {},
   "source": [
    "##### Without H3 (Naive Approach)\n",
    "In this approach, we'll go through each point in our dataset and calculate the Haversine distance to our target location. If the point is within a certain radius, we'll include it in the results."
   ]
  },
  {
   "cell_type": "code",
   "execution_count": 5,
   "metadata": {},
   "outputs": [],
   "source": [
    "import math\n",
    "\n",
    "def haversine_distance(coord1, coord2):\n",
    "    \"\"\"Calculate the Haversine distance between two points on the earth.\"\"\"\n",
    "    R = 6371.0  # Radius of the Earth in kilometers\n",
    "    lat1, lon1 = math.radians(coord1[0]), math.radians(coord1[1])\n",
    "    lat2, lon2 = math.radians(coord2[0]), math.radians(coord2[1])\n",
    "\n",
    "    dlat = lat2 - lat1\n",
    "    dlon = lon2 - lon1\n",
    "\n",
    "    a = math.sin(dlat / 2)**2 + math.cos(lat1) * math.cos(lat2) * math.sin(dlon / 2)**2\n",
    "    c = 2 * math.atan2(math.sqrt(a), math.sqrt(1 - a))\n",
    "\n",
    "    distance = R * c\n",
    "    return distance\n",
    "\n",
    "target_location = (37.7749, -122.4194)  # San Francisco\n",
    "radius = 50  # 50 km\n",
    "\n",
    "results_naive = [coord for coord in random_coords if haversine_distance(target_location, coord) <= radius]\n"
   ]
  },
  {
   "cell_type": "markdown",
   "metadata": {},
   "source": [
    "#### With H3\n",
    "Using H3, we can first assign an index to each point in our dataset. We'll then generate a set of H3 indexes that cover our search radius from the target location. Any point with an H3 index within this set is within our search radius."
   ]
  },
  {
   "cell_type": "code",
   "execution_count": 6,
   "metadata": {},
   "outputs": [],
   "source": [
    "import h3\n",
    "\n",
    "# Assign H3 index to each coordinate at resolution 7\n",
    "h3_indexes = [h3.geo_to_h3(coord[0], coord[1], resolution=7) for coord in random_coords]\n",
    "\n",
    "# Get H3 indexes for our search radius\n",
    "cover = h3.k_ring(h3.geo_to_h3(target_location[0], target_location[1], resolution=7), int(radius/10))\n",
    "results_h3 = [random_coords[i] for i, index in enumerate(h3_indexes) if index in cover]\n"
   ]
  },
  {
   "cell_type": "markdown",
   "metadata": {},
   "source": [
    "#### Conclusion\n",
    "The naive approach would require us to calculate the distance for each point in our dataset to our target location, which would be computationally expensive for large datasets.\n",
    "\n",
    "The H3 approach, on the other hand, would only require us to match H3 indexes, which is much faster. The speed benefit becomes more apparent as the size of the dataset increases.\n",
    "\n",
    "Note: The above example is illustrative and simplifies several aspects. In a real-world scenario, considerations like the desired precision, the exact shape and size of the search area, and the distribution of the data would all influence the choice and implementation of a geospatial index."
   ]
  },
  {
   "cell_type": "markdown",
   "metadata": {},
   "source": [
    "#### Let's Compare other spatial indexing possibilities"
   ]
  },
  {
   "cell_type": "code",
   "execution_count": 8,
   "metadata": {},
   "outputs": [
    {
     "name": "stdout",
     "output_type": "stream",
     "text": [
      "Requirement already satisfied: Rtree in c:\\users\\hqxb\\miniconda3\\envs\\gdal01\\lib\\site-packages (1.1.0)\n",
      "Requirement already satisfied: scipy in c:\\users\\hqxb\\miniconda3\\envs\\gdal01\\lib\\site-packages (1.10.1)\n",
      "Requirement already satisfied: numpy<1.27.0,>=1.19.5 in c:\\users\\hqxb\\miniconda3\\envs\\gdal01\\lib\\site-packages (from scipy) (1.24.4)\n",
      "Note: you may need to restart the kernel to use updated packages.\n"
     ]
    }
   ],
   "source": [
    "pip install Rtree scipy"
   ]
  },
  {
   "cell_type": "code",
   "execution_count": 9,
   "metadata": {},
   "outputs": [],
   "source": [
    "import random\n",
    "\n",
    "# Generate 100,000 random points in 2D space (x, y coordinates)\n",
    "random_points = [(random.uniform(0, 1000), random.uniform(0, 1000)) for _ in range(100000)]\n",
    "query_point = (500, 500)\n",
    "radius = 10  # Search for points within a radius of 10 units from the query point"
   ]
  },
  {
   "cell_type": "code",
   "execution_count": 10,
   "metadata": {},
   "outputs": [],
   "source": [
    "from rtree import index\n",
    "\n",
    "rtree = index.Index()\n",
    "for idx, point in enumerate(random_points):\n",
    "    rtree.insert(idx, (point[0], point[1], point[0], point[1]))  # Using point coordinates as both corners of a rectangle\n",
    "\n",
    "# Query the R-tree for points within the given radius\n",
    "results_rtree = list(rtree.intersection((query_point[0] - radius, query_point[1] - radius, query_point[0] + radius, query_point[1] + radius)))\n"
   ]
  },
  {
   "cell_type": "code",
   "execution_count": 11,
   "metadata": {},
   "outputs": [],
   "source": [
    "from scipy.spatial import KDTree\n",
    "\n",
    "kdtree = KDTree(random_points)\n",
    "\n",
    "# Query the KD-tree for points within the given radius\n",
    "results_kdtree = kdtree.query_ball_point(query_point, radius)\n"
   ]
  },
  {
   "cell_type": "markdown",
   "metadata": {},
   "source": [
    "## Conclusion\n",
    "\n",
    "The above example demonstrates how you would use R-tree and KD-tree to search for points near a given point. In terms of performance:\n",
    "\n",
    "- **Quadtree**: This is effective for point data and can be faster for datasets that have a uniform distribution. The dynamic splitting and merging can handle varying densities.\n",
    "  \n",
    "- **R-tree**: This tends to be more versatile than the quadtree, especially for datasets with mixed types of spatial objects. The bounding rectangles help optimize overlap and containment queries.\n",
    "  \n",
    "- **KD-tree**: For datasets with a large number of points and where nearest neighbor queries are common, KD-trees can be very efficient. However, their performance degrades in higher dimensions.\n",
    "\n",
    "For large datasets or complex use-cases, benchmarks should be run to determine which spatial index is the most efficient for a given problem."
   ]
  }
 ],
 "metadata": {
  "kernelspec": {
   "display_name": "Python 3",
   "language": "python",
   "name": "python3"
  },
  "language_info": {
   "codemirror_mode": {
    "name": "ipython",
    "version": 3
   },
   "file_extension": ".py",
   "mimetype": "text/x-python",
   "name": "python",
   "nbconvert_exporter": "python",
   "pygments_lexer": "ipython3",
   "version": "3.8.15"
  }
 },
 "nbformat": 4,
 "nbformat_minor": 2
}
