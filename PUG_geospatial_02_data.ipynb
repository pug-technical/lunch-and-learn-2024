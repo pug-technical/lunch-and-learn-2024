{
 "cells": [
  {
   "cell_type": "markdown",
   "metadata": {},
   "source": [
    "# Geographic Data Representation in GIS\n",
    "*Notebook 2 of 5*\n",
    "\n",
    "In the realm of Geographic Information Systems (GIS), representing and managing spatial data efficiently is crucial. The choice of format for data representation can impact storage needs, ease of data exchange, processing speed, and more. Different formats come with their own advantages and disadvantages, catering to various needs in the GIS world. This document provides a detailed overview of some of the most common formats used for geographic data representation, helping users make informed choices based on their requirements.\n",
    "\n",
    "## Shapely Geometry\n",
    "\n",
    "Shapely provides a Pythonic interface for handling and manipulating geometric shapes. It serves as the backbone for many geospatial operations within Python. The library's strength lies in its ability to seamlessly handle, transform, and analyze geometric data.\n",
    "\n",
    "## Well-Known Text (WKT) and Well-Known Binary (WKB)\n",
    "\n",
    "### 1. Well-Known Text (WKT):\n",
    "\n",
    "#### Advantages:\n",
    "- Human-readable format.\n",
    "- Easily parsed by computer programs.\n",
    "- Represents any geometry type.\n",
    "- Standard format widely supported by GIS software.\n",
    "\n",
    "#### Disadvantages:\n",
    "- Verbose, potentially consuming more space than binary formats.\n",
    "- Less efficient for storing and transmitting large datasets.\n",
    "\n",
    "### 2. Well-Known Binary (WKB):\n",
    "\n",
    "#### Advantages:\n",
    "- Compact binary format.\n",
    "- More efficient for storage and transmission of large datasets.\n",
    "- Easily parsed by computer programs.\n",
    "- Standard format widely supported by GIS software.\n",
    "\n",
    "#### Disadvantages:\n",
    "- Not human-readable.\n",
    "- More challenging to debug than text-based formats.\n",
    "\n",
    "## Modern Geographic Data Formats\n",
    "\n",
    "### 1. GeoJSON:\n",
    "\n",
    "#### Advantages:\n",
    "- Lightweight format.\n",
    "- Easy to read and write.\n",
    "- Easily parsed by JavaScript code.\n",
    "- Represents any geometry type.\n",
    "\n",
    "#### Disadvantages:\n",
    "- Less efficient for storage and transmission of large datasets.\n",
    "- May not be as widely supported by GIS software as other formats.\n",
    "\n",
    "### 2. Keyhole Markup Language (KML):\n",
    "\n",
    "#### Advantages:\n",
    "- Represents geographic data in 3D.\n",
    "- Widely supported by mapping software.\n",
    "- Includes additional information like images and descriptions.\n",
    "\n",
    "#### Disadvantages:\n",
    "- Not as widely supported as other formats.\n",
    "- Might be less efficient for storage and transmission of large datasets.\n",
    "\n",
    "### 3. Shapefile:\n",
    "\n",
    "#### Advantages:\n",
    "- Incorporates both geometry and attribute data.\n",
    "- Broadly supported by GIS software.\n",
    "- Represents any geometry type.\n",
    "\n",
    "#### Disadvantages:\n",
    "- File-based format, potentially less efficient for storage and transmission of sizable datasets.\n",
    "- Can be harder to manage than other formats due to its intricate structure.\n",
    "\n",
    "---\n",
    "\n",
    "**Note**: Beyond the pros and cons of each format, the Coordinate Reference System (CRS) used to represent the data is pivotal. The CRS dictates how data is visualized and processed. Different formats might have distinct CRS requirements. Grasping the CRS is vital for the accurate analysis and interpretation of geographic data.\n"
   ]
  },
  {
   "cell_type": "markdown",
   "metadata": {},
   "source": [
    "## Shapely: A Python Library for Geometric Operations\n",
    "\n",
    "Shapely is a Python library for the manipulation and analysis of planar geometric objects. Within the context of geographic information systems (GIS) and geospatial analysis, these geometric objects can depict spatial features like points, lines, and polygons. Shapely is fundamentally built on the GEOS library, which is itself a C++ port of the Java Topology Suite (JTS).\n",
    "\n",
    "## Core Geometric Objects in Shapely\n",
    "\n",
    "- **Point**: Represents a single point in space, defined by a pair of coordinates.\n",
    "- **LineString**: Symbolizes a sequence of points that form a line.\n",
    "- **LinearRing**: A variant of LineString where the start and end points are identical, creating a closed loop.\n",
    "- **Polygon**: Denotes a filled area, potentially having an outer boundary and one or multiple inner boundaries (holes).\n",
    "- **MultiPoint**: A collection of Points.\n",
    "- **MultiLineString**: An assortment of LineStrings.\n",
    "- **MultiPolygon**: A collection of Polygons.\n",
    "\n",
    "## Additional Features\n",
    "\n",
    "Shapely doesn't just stop at representing geometries. It extends its capabilities into various operations and functionalities:\n",
    "\n",
    "- **Geometric operations**: Such as union, intersection, difference, and symmetric difference.\n",
    "- **Predicates**: Operations like intersects, touches, crosses, and within help in determining spatial relationships between geometries.\n",
    "- **Spatial analysis functions**: Facilitate calculations related to area, length, boundary, centroid, and more.\n",
    "\n",
    "Due to its comprehensive suite of features, Shapely has become an indispensable tool in the geospatial Python ecosystem, effortlessly interoperating with renowned libraries such as Geopandas, Fiona, and Pyproj.\n",
    "\n",
    "## Shapely, WKT, and WKB: Why Coexist?\n",
    "\n",
    "While Shapely provides the Pythonic interface to handle and operate on geometric shapes, there are times when these shapes need to be serialized or shared between different systems. This is where WKT (Well-Known Text) and WKB (Well-Known Binary) come into play:\n",
    "\n",
    "- **WKT**: A standard text markup language for representing vector geometry objects. Being in a text format, it's human-readable and useful for debugging or quickly representing a geometry in text form.\n",
    "\n",
    "- **WKB**: A standard binary representation for the same geometric objects. Since it's in a binary format, it's more compact and efficient for storage and transmission purposes but isn't human-readable.\n",
    "\n",
    "### When to use them:\n",
    "\n",
    "- **Shapely**: When you're performing operations, manipulations, or analyses on geometric shapes within a Python environment.\n",
    "- **WKT**: When you need a text-based representation of your geometry, perhaps for debugging, simple storage, or sharing in a human-readable format.\n",
    "- **WKB**: When space and efficiency are paramount, for instance, when storing large geometric data in databases or transmitting over networks.\n"
   ]
  },
  {
   "cell_type": "code",
   "execution_count": 2,
   "metadata": {},
   "outputs": [
    {
     "name": "stdout",
     "output_type": "stream",
     "text": [
      "Requirement already satisfied: shapely in c:\\users\\hqxb\\miniconda3\\envs\\gdal01\\lib\\site-packages (2.0.2)\n",
      "Requirement already satisfied: numpy>=1.14 in c:\\users\\hqxb\\miniconda3\\envs\\gdal01\\lib\\site-packages (from shapely) (1.24.4)\n",
      "Note: you may need to restart the kernel to use updated packages.\n"
     ]
    }
   ],
   "source": [
    "pip install shapely\n"
   ]
  },
  {
   "cell_type": "code",
   "execution_count": 4,
   "metadata": {},
   "outputs": [
    {
     "name": "stdout",
     "output_type": "stream",
     "text": [
      "Geometry from WKT: POINT (30 10)\n",
      "WKB representation: b'\\x01\\x01\\x00\\x00\\x00\\x00\\x00\\x00\\x00\\x00\\x00>@\\x00\\x00\\x00\\x00\\x00\\x00$@'\n",
      "Geometry from WKB: POINT (30 10)\n",
      "GeoJSON representation: {'type': 'Point', 'coordinates': (30.0, 10.0)}\n"
     ]
    }
   ],
   "source": [
    "from shapely.geometry import Point, shape\n",
    "from shapely import wkb, wkt\n",
    "\n",
    "# 1. Parsing WKT to a Shapely Geometry\n",
    "wkt_string = \"POINT(30 10)\"\n",
    "geometry_from_wkt = wkt.loads(wkt_string)\n",
    "print(f\"Geometry from WKT: {geometry_from_wkt}\")\n",
    "\n",
    "# 2. Converting Shapely Geometry to WKB\n",
    "wkb_representation = wkb.dumps(geometry_from_wkt)\n",
    "print(f\"WKB representation: {wkb_representation}\")\n",
    "\n",
    "# 3. Converting WKB back to Shapely Geometry\n",
    "geometry_from_wkb = wkb.loads(wkb_representation)\n",
    "print(f\"Geometry from WKB: {geometry_from_wkb}\")\n",
    "\n",
    "# 4. Transforming Shapely Geometry to GeoJSON\n",
    "geojson_representation = shape(geometry_from_wkb).__geo_interface__\n",
    "print(f\"GeoJSON representation: {geojson_representation}\")\n"
   ]
  },
  {
   "cell_type": "code",
   "execution_count": 6,
   "metadata": {},
   "outputs": [
    {
     "name": "stdout",
     "output_type": "stream",
     "text": [
      "Original Geometry from WKT (in EPSG:4326): POINT (30 10)\n",
      "WKB representation: b'\\x01\\x01\\x00\\x00\\x00\\x00\\x00\\x00\\x00\\x00\\x00>@\\x00\\x00\\x00\\x00\\x00\\x00$@'\n",
      "Geometry from WKB (in EPSG:4326): POINT (30 10)\n",
      "GeoJSON representation (in EPSG:4326): {'type': 'Point', 'coordinates': (30.0, 10.0)}\n",
      "Transformed point (in EPSG:3857): POINT (3339584.723798207 1118889.9748579594)\n"
     ]
    }
   ],
   "source": [
    "\n",
    "from shapely.geometry import Point, shape\n",
    "from shapely import wkb, wkt\n",
    "from pyproj import Transformer\n",
    "\n",
    "# 1. Parsing WKT to a Shapely Geometry\n",
    "wkt_string = \"POINT(30 10)\"\n",
    "geometry_from_wkt = wkt.loads(wkt_string)\n",
    "print(f\"Original Geometry from WKT (in EPSG:4326): {geometry_from_wkt}\")\n",
    "\n",
    "# 2. Converting Shapely Geometry to WKB\n",
    "wkb_representation = wkb.dumps(geometry_from_wkt)\n",
    "print(f\"WKB representation: {wkb_representation}\")\n",
    "\n",
    "# 3. Converting WKB back to Shapely Geometry\n",
    "geometry_from_wkb = wkb.loads(wkb_representation)\n",
    "print(f\"Geometry from WKB (in EPSG:4326): {geometry_from_wkb}\")\n",
    "\n",
    "# 4. Transforming Shapely Geometry to GeoJSON\n",
    "geojson_representation = shape(geometry_from_wkb).__geo_interface__\n",
    "print(f\"GeoJSON representation (in EPSG:4326): {geojson_representation}\")\n",
    "\n",
    "# 5. Changing CRS of the Shapely Geometry from EPSG:4326 to EPSG:3857\n",
    "transformer = Transformer.from_crs(\"EPSG:4326\", \"EPSG:3857\", always_xy=True)\n",
    "x, y = geometry_from_wkt.xy\n",
    "x_transformed, y_transformed = transformer.transform(x[0], y[0])\n",
    "transformed_point = Point(x_transformed, y_transformed)\n",
    "print(f\"Transformed point (in EPSG:3857): {transformed_point}\")\n"
   ]
  }
 ],
 "metadata": {
  "kernelspec": {
   "display_name": "Python 3",
   "language": "python",
   "name": "python3"
  },
  "language_info": {
   "codemirror_mode": {
    "name": "ipython",
    "version": 3
   },
   "file_extension": ".py",
   "mimetype": "text/x-python",
   "name": "python",
   "nbconvert_exporter": "python",
   "pygments_lexer": "ipython3",
   "version": "3.8.15"
  }
 },
 "nbformat": 4,
 "nbformat_minor": 2
}
